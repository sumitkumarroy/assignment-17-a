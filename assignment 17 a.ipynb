{
 "cells": [
  {
   "cell_type": "code",
   "execution_count": 1,
   "id": "22ac6b2b",
   "metadata": {},
   "outputs": [
    {
     "data": {
      "text/plain": [
       "'\\nQ1. What is the Probability Density Function?\\nThe Probability Density Function (PDF) describes the likelihood of a continuous random variable to take on a particular value. \\nf(x) such that the area under the curve within a given interval represents the probability that the variable falls within that \\ninterval.\\n'"
      ]
     },
     "execution_count": 1,
     "metadata": {},
     "output_type": "execute_result"
    }
   ],
   "source": [
    "'''\n",
    "Q1. What is the Probability Density Function?\n",
    "The Probability Density Function (PDF) describes the likelihood of a continuous random variable to take on a particular value. \n",
    "f(x) such that the area under the curve within a given interval represents the probability that the variable falls within that \n",
    "interval.\n",
    "'''"
   ]
  },
  {
   "cell_type": "code",
   "execution_count": 2,
   "id": "14708723",
   "metadata": {},
   "outputs": [
    {
     "data": {
      "text/plain": [
       "'\\nQ2. What are the Types of Probability Distribution?\\nTypes of probability distributions include:\\n\\nDiscrete Distributions: Examples are binomial, Poisson, and geometric distributions.\\nContinuous Distributions: Examples are normal, exponential, and uniform distributions.\\n'"
      ]
     },
     "execution_count": 2,
     "metadata": {},
     "output_type": "execute_result"
    }
   ],
   "source": [
    "'''\n",
    "Q2. What are the Types of Probability Distribution?\n",
    "Types of probability distributions include:\n",
    "\n",
    "Discrete Distributions: Examples are binomial, Poisson, and geometric distributions.\n",
    "Continuous Distributions: Examples are normal, exponential, and uniform distributions.\n",
    "'''"
   ]
  },
  {
   "cell_type": "code",
   "execution_count": 3,
   "id": "b29e8719",
   "metadata": {},
   "outputs": [],
   "source": [
    "'''\n",
    "Q3. Python Function for Normal Distribution PDF\n",
    "'''\n",
    "\n",
    "import math\n",
    "\n",
    "def normal_pdf(x, mean, std_dev):\n",
    "    coefficient = 1 / (std_dev * math.sqrt(2 * math.sqrt(math.pi)))\n",
    "    exponent = -((x - mean) ** 2) / (2 * std_dev ** 2)\n",
    "    return coefficient * math.exp(exponent)\n"
   ]
  },
  {
   "cell_type": "code",
   "execution_count": 4,
   "id": "93c8041b",
   "metadata": {},
   "outputs": [
    {
     "data": {
      "text/plain": [
       "'\\nQ4. Properties of Binomial Distribution\\nFixed number of trials (𝑛).\\nEach trial has two possible outcomes (success/failure).\\nConstant probability of success (𝑝).\\nTrials are independent.\\nExamples:\\n\\nNumber of heads in 10 coin flips.\\nNumber of defective items in a batch of 20.\\n'"
      ]
     },
     "execution_count": 4,
     "metadata": {},
     "output_type": "execute_result"
    }
   ],
   "source": [
    "'''\n",
    "Q4. Properties of Binomial Distribution\n",
    "Fixed number of trials (𝑛).\n",
    "Each trial has two possible outcomes (success/failure).\n",
    "Constant probability of success (𝑝).\n",
    "Trials are independent.\n",
    "Examples:\n",
    "\n",
    "Number of heads in 10 coin flips.\n",
    "Number of defective items in a batch of 20.\n",
    "'''"
   ]
  },
  {
   "cell_type": "code",
   "execution_count": 10,
   "id": "79442d50",
   "metadata": {},
   "outputs": [
    {
     "data": {
      "image/png": "[encoded data removed]",
      "text/plain": [
       "<Figure size 640x480 with 1 Axes>"
      ]
     },
     "metadata": {},
     "output_type": "display_data"
    }
   ],
   "source": [
    "'''\n",
    "Q5. Generate and Plot Binomial Distribution Sample\n",
    "'''\n",
    "import numpy as np\n",
    "import matplotlib.pyplot as plt\n",
    "\n",
    "sample = np.random.binomial(n=1, p=0.5, size=1000)\n",
    "plt.hist(sample, bins=10, edgecolor='black')\n",
    "plt.title('Binomial Distribution Histogram')\n",
    "plt.xlabel('Number of Successes')\n",
    "plt.ylabel('Frequency')\n",
    "plt.show()\n"
   ]
  },
  {
   "cell_type": "code",
   "execution_count": 11,
   "id": "d303e867",
   "metadata": {},
   "outputs": [],
   "source": [
    "'''\n",
    "Q6. Python Function for Poisson CDF\n",
    "'''\n",
    "import scipy.stats as stats\n",
    "\n",
    "def poisson_cdf(k, mean):\n",
    "    return stats.poisson.cdf(k, mean)\n"
   ]
  },
  {
   "cell_type": "code",
   "execution_count": 12,
   "id": "ecb8110b",
   "metadata": {},
   "outputs": [
    {
     "data": {
      "text/plain": [
       "'\\nQ7. Differences Between Binomial and Poisson Distribution\\nTrials: Binomial has fixed number of trials; Poisson has a theoretically infinite number.\\nProbability of Success: Binomial has a fixed probability; Poisson has events that occur with a known constant mean rate independently.\\n'"
      ]
     },
     "execution_count": 12,
     "metadata": {},
     "output_type": "execute_result"
    }
   ],
   "source": [
    "'''\n",
    "Q7. Differences Between Binomial and Poisson Distribution\n",
    "Trials: Binomial has fixed number of trials; Poisson has a theoretically infinite number.\n",
    "Probability of Success: Binomial has a fixed probability; Poisson has events that occur with a known constant mean rate \n",
    "independently.\n",
    "'''\n"
   ]
  },
  {
   "cell_type": "code",
   "execution_count": 13,
   "id": "44d30cde",
   "metadata": {},
   "outputs": [
    {
     "data": {
      "text/plain": [
       "(4.962, 4.972556000000001)"
      ]
     },
     "execution_count": 13,
     "metadata": {},
     "output_type": "execute_result"
    }
   ],
   "source": [
    "'''\n",
    "Q8. Generate and Calculate Poisson Sample Statistics\n",
    "'''\n",
    "sample = np.random.poisson(lam=5, size=1000)\n",
    "sample_mean = np.mean(sample)\n",
    "sample_variance = np.var(sample)\n",
    "sample_mean, sample_variance\n"
   ]
  },
  {
   "cell_type": "code",
   "execution_count": 14,
   "id": "43143199",
   "metadata": {},
   "outputs": [
    {
     "data": {
      "text/plain": [
       "'\\nQ9. Relationship Between Mean and Variance\\nBinomial Distribution: Mean =𝑛𝑝=np, Variance=𝑛𝑝(1−𝑝)=np(1−p).\\nPoisson Distribution: Mean =𝜆=λ, Variance =𝜆=λ.\\n'"
      ]
     },
     "execution_count": 14,
     "metadata": {},
     "output_type": "execute_result"
    }
   ],
   "source": [
    "'''\n",
    "Q9. Relationship Between Mean and Variance\n",
    "Binomial Distribution: Mean =np, Variance=np(1−p).\n",
    "Poisson Distribution: Mean =𝜆λ, Variance =λ.\n",
    "'''"
   ]
  },
  {
   "cell_type": "code",
   "execution_count": null,
   "id": "42c3b965",
   "metadata": {},
   "outputs": [],
   "source": []
  }
 ],
 "metadata": {
  "kernelspec": {
   "display_name": "Python 3 (ipykernel)",
   "language": "python",
   "name": "python3"
  },
  "language_info": {
   "codemirror_mode": {
    "name": "ipython",
    "version": 3
   },
   "file_extension": ".py",
   "mimetype": "text/x-python",
   "name": "python",
   "nbconvert_exporter": "python",
   "pygments_lexer": "ipython3",
   "version": "3.11.4"
  }
 },
 "nbformat": 4,
 "nbformat_minor": 5
}
